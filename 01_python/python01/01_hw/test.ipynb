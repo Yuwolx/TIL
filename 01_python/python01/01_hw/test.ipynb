{
 "cells": [
  {
   "cell_type": "code",
   "execution_count": 2,
   "id": "29117a59",
   "metadata": {},
   "outputs": [
    {
     "name": "stdout",
     "output_type": "stream",
     "text": [
      "{'Alice': 85, 'Bob': 78, 'Charlie': 92, 'David': 88, 'Eve': 95}\n"
     ]
    }
   ],
   "source": [
    "students = {'Alice':85, \"Bob\":78, \"Charlie\":92,\n",
    "                 \"David\": 88, \"Eve\": 95}\n",
    "print(students)"
   ]
  },
  {
   "cell_type": "code",
   "execution_count": 6,
   "id": "5aa3ff51",
   "metadata": {},
   "outputs": [
    {
     "data": {
      "text/plain": [
       "dict_items([('Alice', 85), ('Bob', 78), ('Charlie', 92), ('David', 88), ('Eve', 95)])"
      ]
     },
     "execution_count": 6,
     "metadata": {},
     "output_type": "execute_result"
    }
   ],
   "source": [
    "students.items()"
   ]
  },
  {
   "cell_type": "code",
   "execution_count": 7,
   "id": "ef4bf064",
   "metadata": {},
   "outputs": [],
   "source": [
    "for i in students.keys():\n",
    "    students[i]"
   ]
  },
  {
   "cell_type": "code",
   "execution_count": null,
   "id": "28265620",
   "metadata": {},
   "outputs": [],
   "source": []
  }
 ],
 "metadata": {
  "kernelspec": {
   "display_name": "Python 3",
   "language": "python",
   "name": "python3"
  },
  "language_info": {
   "codemirror_mode": {
    "name": "ipython",
    "version": 3
   },
   "file_extension": ".py",
   "mimetype": "text/x-python",
   "name": "python",
   "nbconvert_exporter": "python",
   "pygments_lexer": "ipython3",
   "version": "3.11.9"
  }
 },
 "nbformat": 4,
 "nbformat_minor": 5
}
